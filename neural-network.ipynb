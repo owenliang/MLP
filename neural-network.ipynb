{
 "cells": [
  {
   "cell_type": "markdown",
   "id": "revised-thursday",
   "metadata": {},
   "source": [
    "## 梯度推导\n",
    "\n",
    "$$ E_k=(T_k-O_k)^2 $$\n",
    "\n",
    "$$ \\frac{\\partial E_k}{\\partial W_{j,k}}=\\frac{\\partial E_k}{\\partial O_k}\\times\\frac{\\partial O_k}{\\partial W_{j,k}} $$\n",
    "\n",
    "$$ \\frac{\\partial E_k}{\\partial O_k}=\\frac{\\partial (T_k-O_k)^2}{\\partial O_k}=-2(T_k-O_k) $$ \n",
    "\n",
    "--- \n",
    "\n",
    "$$ O_k = sigmoid(\\sum_j W_{j,k}\\times O_j) $$\n",
    "\n",
    "$$ \\mu=\\sum_j W_{j,k}\\times O_j $$\n",
    "\n",
    "$$ \\frac{\\partial O_k}{\\partial W_{j,k}}=\\frac{\\partial O_k}{\\partial \\mu}\\times \\frac{\\partial \\mu}{\\partial W_{j,k}} $$\n",
    "\n",
    "$$ \\frac{\\partial O_k}{\\partial \\mu} = sigmoid(\\mu)\\times(1-sigmoid(\\mu)) $$\n",
    "$$ \\frac{\\partial \\mu}{\\partial W_{j,k}} = O_j $$ \n",
    "\n",
    "--- \n",
    "$$ \\frac{\\partial O_k}{\\partial W_{j,k}}=sigmoid(\\sum_j W_{j,k}\\times O_j) \\times (1-sigmoid(\\sum_j W_{j,k}\\times O_j)) \\times O_j $$ \n",
    "\n",
    "$$ \\frac{\\partial E_k}{\\partial W_{j,k}}=-2(T_k-O_k)\\times sigmoid(\\sum_j W_{j,k}\\times O_j) \\times (1-sigmoid(\\sum_j W_{j,k}\\times O_j)) \\times O_j\\\\=-2(T_k-O_k)\\times O_k \\times (1-O_k) \\times O_j = -2E_k\\times O_k \\times (1-O_k) \\times O_j $$"
   ]
  },
  {
   "cell_type": "markdown",
   "id": "figured-retrieval",
   "metadata": {},
   "source": [
    "## 模型实现"
   ]
  },
  {
   "cell_type": "code",
   "execution_count": 310,
   "id": "velvet-addition",
   "metadata": {},
   "outputs": [],
   "source": [
    "import numpy as np\n",
    "from scipy.special import expit\n",
    "\n",
    "class NeuralNetwork:\n",
    "    \"\"\"\n",
    "    初始化函数\n",
    "        input_size: 输入层神经元个数\n",
    "        hidden_layers: 一个列表，每层隐层的神经元个数\n",
    "        output_size：输出层\n",
    "    \"\"\"\n",
    "    def __init__(self, input_size, hidden_layers, output_size, learning_rate = 0.01, output_activation = False):\n",
    "        self.input_size = input_size\n",
    "        self.hidden_layers = hidden_layers\n",
    "        self.output_size = output_size\n",
    "        self.learning_rate = learning_rate\n",
    "        self.output_activation = False\n",
    "        self.layer_weights = [] \n",
    "        \n",
    "        # 经验A：初始化权重一定要有正有负，否则训练可能无法收敛\n",
    "        \n",
    "        # 输入层到第1个隐藏层\n",
    "        self.layer_weights.append(np.random.random((hidden_layers[0], input_size)) - 0.5)\n",
    "        # 隐藏层到隐藏层\n",
    "        for i in range(len(hidden_layers) - 1):\n",
    "            self.layer_weights.append(np.random.random((hidden_layers[i+1], hidden_layers[i])) - 0.5)\n",
    "        # 最后的隐层到输出层\n",
    "        self.layer_weights.append(np.random.random((output_size, hidden_layers[-1])) - 0.5)\n",
    "\n",
    "    \"\"\"\n",
    "    训练函数\n",
    "        inputs：训练输入\n",
    "        outputs：训练输出\n",
    "    \"\"\"\n",
    "    def train(self, inputs, outputs):\n",
    "        # 将矩阵转置，用于后续矩阵运算\n",
    "        x = np.array(inputs, dtype=np.float).T\n",
    "        y = np.array(outputs, dtype=np.float).T\n",
    "        \n",
    "        \"\"\"\n",
    "            前向计算\n",
    "        \"\"\"\n",
    "        layer_outputs = [x]\n",
    "        for i in range(len(self.layer_weights)):\n",
    "            x = np.dot(self.layer_weights[i], x)\n",
    "            if i != len(self.layer_weights) - 1 or self.output_activation: # 非输出层 or 输出层应用激活\n",
    "                x = expit(x)\n",
    "            layer_outputs.append(x)\n",
    "\n",
    "        \"\"\"\n",
    "            反向传播误差\n",
    "        \"\"\"\n",
    "        layer_errors = [y-layer_outputs[-1]]\n",
    "        for i in range(len(self.layer_weights)-1, 0, -1): # 误差只需要传播到第1个隐层即可\n",
    "            layer_errors.append(np.dot(self.layer_weights[i].T, layer_errors[-1]))\n",
    "        layer_errors.reverse()\n",
    "        \n",
    "        \"\"\"\n",
    "            梯度下降（链接权重）\n",
    "        \"\"\"\n",
    "        for i in range(len(self.layer_weights)): \n",
    "            if i != len(self.layer_weights)-1 or self.output_activation:\n",
    "                gradients = np.dot(-2*layer_errors[i]*layer_outputs[i+1]*(1-layer_outputs[i+1]), layer_outputs[i].T)\n",
    "            else:\n",
    "                # 经验B：如果输出层没用激活函数，那么这层链接的梯度有差别\n",
    "                gradients = np.dot(-2*layer_errors[i], layer_outputs[i].T) \n",
    "            # 经验C：求出的是一批样本的梯度和，取平均梯度用作更新\n",
    "            self.layer_weights[i] -= self.learning_rate * (gradients / len(inputs))\n",
    "    \"\"\"\n",
    "    预测函数\n",
    "        inputs：输入\n",
    "    \"\"\"\n",
    "    def predict(self, inputs):\n",
    "        x = np.array(inputs, dtype=np.float).T\n",
    "        for i in range(len(self.layer_weights)):\n",
    "            x = np.dot(self.layer_weights[i], x)\n",
    "            if i != len(self.layer_weights) - 1 or self.output_activation: # 非输出层 or 输出层应用激活\n",
    "                x = expit(x)\n",
    "        return x.T # 行优先返回"
   ]
  },
  {
   "cell_type": "markdown",
   "id": "arranged-experience",
   "metadata": {},
   "source": [
    "## 模型测试"
   ]
  },
  {
   "cell_type": "code",
   "execution_count": 316,
   "id": "respected-browser",
   "metadata": {},
   "outputs": [
    {
     "name": "stdout",
     "output_type": "stream",
     "text": [
      "epoch=1 mse=8.274988\n",
      "epoch=100001 mse=0.034958\n",
      "epoch=200001 mse=0.015758\n",
      "epoch=300001 mse=0.008295\n",
      "epoch=400001 mse=0.005622\n",
      "epoch=500001 mse=0.004212\n",
      "epoch=600001 mse=0.000981\n",
      "epoch=700001 mse=0.000607\n",
      "epoch=800001 mse=0.000714\n",
      "epoch=900001 mse=0.000761\n"
     ]
    },
    {
     "data": {
      "text/plain": [
       "[<matplotlib.lines.Line2D at 0x7fdbdb0bcc10>]"
      ]
     },
     "execution_count": 316,
     "metadata": {},
     "output_type": "execute_result"
    },
    {
     "data": {
      "image/png": "[encoded data removed]",
      "text/plain": [
       "<Figure size 432x288 with 1 Axes>"
      ]
     },
     "metadata": {
      "needs_background": "light"
     },
     "output_type": "display_data"
    }
   ],
   "source": [
    "import matplotlib.pyplot as plt \n",
    "\n",
    "# 线性函数\n",
    "def f(x):\n",
    "    return 5*x\n",
    "\n",
    "# 生成训练集\n",
    "train_x = np.arange(0,1,0.01).reshape(-1,1)\n",
    "train_y = f(train_x)\n",
    "\n",
    "# 定义神经网络\n",
    "nn = NeuralNetwork(input_size=1, hidden_layers=[5,4,2], output_size=1, learning_rate=0.001, output_activation=False)\n",
    "\n",
    "# 训练\n",
    "for i in range(1000000):\n",
    "    nn.train(train_x, train_y)\n",
    "\n",
    "    # 均方误差\n",
    "    if i % 100000 == 0:\n",
    "        mse = np.mean(np.power(nn.predict(train_x)-train_y, 2))\n",
    "        print('epoch=%d mse=%f' % (i+1, mse))\n",
    "\n",
    "# 绘制图像\n",
    "plt.plot(train_x, nn.predict(train_x), c='red')\n",
    "plt.plot(train_x, train_y, c='green')"
   ]
  }
 ],
 "metadata": {
  "kernelspec": {
   "display_name": "Python 3",
   "language": "python",
   "name": "python3"
  },
  "language_info": {
   "codemirror_mode": {
    "name": "ipython",
    "version": 3
   },
   "file_extension": ".py",
   "mimetype": "text/x-python",
   "name": "python",
   "nbconvert_exporter": "python",
   "pygments_lexer": "ipython3",
   "version": "3.8.8"
  }
 },
 "nbformat": 4,
 "nbformat_minor": 5
}
